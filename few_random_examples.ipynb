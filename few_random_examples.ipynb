{
 "cells": [
  {
   "cell_type": "code",
   "execution_count": 1,
   "id": "5d27df92",
   "metadata": {},
   "outputs": [],
   "source": [
    "from sympy import *\n",
    "from sympy.matrices import matrix_multiply_elementwise as elementwise \n",
    "\n",
    "from sympy import init_printing\n",
    "\n",
    "from math import log10\n",
    "from numpy import polyfit\n",
    "\n",
    "init_printing() "
   ]
  },
  {
   "cell_type": "code",
   "execution_count": 2,
   "id": "cbd20aa5",
   "metadata": {},
   "outputs": [],
   "source": [
    "# R1,R2,C2 = symbols(['R1', 'R2', 'C2'])\n",
    "Ri = symbols('R0:2', real=True, positive=True)\n",
    "R0, R1 = Ri\n",
    "\n",
    "C1 = symbols('C1', real=True, positive=True)\n",
    "\n",
    "w = symbols('w')\n",
    "s = symbols('s', imaginary=True)\n",
    "\n",
    "ai = symbols('a0:3')\n",
    "a0, a1, a2 = ai\n",
    "taylor = Poly(ai[::-1],s)\n",
    "\n",
    "x = symbols('x')"
   ]
  },
  {
   "cell_type": "code",
   "execution_count": 3,
   "id": "810426f5",
   "metadata": {},
   "outputs": [
    {
     "name": "stdout",
     "output_type": "stream",
     "text": [
      "C1*R0*R1*s + R0 + R1\n",
      "C1*R1*s + 1\n"
     ]
    }
   ],
   "source": [
    "Z = (R0+R1+C1*R0*R1*s)/(C1*R1*s+1)\n",
    "\n",
    "numerator, denominator = fraction(Z)\n",
    "print(numerator)\n",
    "print(denominator)"
   ]
  },
  {
   "cell_type": "code",
   "execution_count": 4,
   "id": "2534612b",
   "metadata": {},
   "outputs": [],
   "source": [
    "pol = Poly(numerator.expand(), s)\n",
    "coeffs = {s**m[0]:pol.coeff_monomial(m) for m in pol.monoms()}"
   ]
  },
  {
   "cell_type": "code",
   "execution_count": 5,
   "id": "13ebc953",
   "metadata": {},
   "outputs": [
    {
     "data": {
      "image/png": "[encoded data removed]",
      "text/latex": [
       "$\\displaystyle R_{0} + \\frac{R_{1}}{C_{1} R_{1} s + 1}$"
      ],
      "text/plain": [
       "          R₁    \n",
       "R₀ + ───────────\n",
       "     C₁⋅R₁⋅s + 1"
      ]
     },
     "execution_count": 5,
     "metadata": {},
     "output_type": "execute_result"
    }
   ],
   "source": [
    "# partial fraction decomposition on a rational function\n",
    "apart(Z,s)"
   ]
  },
  {
   "cell_type": "code",
   "execution_count": 6,
   "id": "8415290e",
   "metadata": {},
   "outputs": [],
   "source": [
    "#linsolve(list(coeffs_s.values()), ai)"
   ]
  },
  {
   "cell_type": "code",
   "execution_count": 7,
   "id": "2b2e031b",
   "metadata": {},
   "outputs": [],
   "source": [
    "mi = symbols('m0:4')\n",
    "X = Function('X')\n",
    "# Eq(X(s), mobius_direct(s, mi))"
   ]
  },
  {
   "cell_type": "code",
   "execution_count": 8,
   "id": "cf68630f",
   "metadata": {},
   "outputs": [],
   "source": [
    "mi = symbols('m0:4')\n",
    "m0,m1,m2,m3 = mi\n",
    "X = symbols('X')\n",
    "# solveset(mobius_direct(s, mi)-X,s)"
   ]
  },
  {
   "cell_type": "code",
   "execution_count": 9,
   "id": "124d00dc",
   "metadata": {},
   "outputs": [
    {
     "data": {
      "image/png": "[encoded data removed]",
      "text/latex": [
       "$\\displaystyle a_{0} + a_{1} x + a_{2} x^{2}$"
      ],
      "text/plain": [
       "                2\n",
       "a₀ + a₁⋅x + a₂⋅x "
      ]
     },
     "execution_count": 9,
     "metadata": {},
     "output_type": "execute_result"
    }
   ],
   "source": [
    "pol = Poly(ai[::-1],x).as_expr()\n",
    "pol"
   ]
  },
  {
   "cell_type": "code",
   "execution_count": 10,
   "id": "d4ee07cb",
   "metadata": {},
   "outputs": [
    {
     "data": {
      "image/png": "[encoded data removed]",
      "text/latex": [
       "$\\displaystyle \\frac{a_{0} a_{1} a_{2} a_{3} + a_{0} a_{1} + a_{0} a_{3} + a_{2} a_{3} + 1}{a_{1} a_{2} a_{3} + a_{1} + a_{3}}$"
      ],
      "text/plain": [
       "a₀⋅a₁⋅a₂⋅a₃ + a₀⋅a₁ + a₀⋅a₃ + a₂⋅a₃ + 1\n",
       "───────────────────────────────────────\n",
       "           a₁⋅a₂⋅a₃ + a₁ + a₃          "
      ]
     },
     "execution_count": 10,
     "metadata": {},
     "output_type": "execute_result"
    }
   ],
   "source": [
    "def list_to_frac(l):\n",
    "\n",
    "    expr = Integer(0)\n",
    "\n",
    "    for i in reversed(l[1:]):\n",
    "\n",
    "        expr += i\n",
    "\n",
    "        expr = 1/expr\n",
    "\n",
    "    return l[0] + expr\n",
    "\n",
    "ai = symbols('a0:4')\n",
    "a0, a1, a2, a3 = ai\n",
    "\n",
    "frac = list_to_frac(ai)\n",
    "frac\n",
    "\n",
    "# reduce into standard rational function\n",
    "frac = cancel(frac)\n",
    "frac"
   ]
  },
  {
   "cell_type": "code",
   "execution_count": null,
   "id": "1f1c1fed",
   "metadata": {},
   "outputs": [],
   "source": []
  }
 ],
 "metadata": {
  "kernelspec": {
   "display_name": "Python 3 (ipykernel)",
   "language": "python",
   "name": "python3"
  },
  "language_info": {
   "codemirror_mode": {
    "name": "ipython",
    "version": 3
   },
   "file_extension": ".py",
   "mimetype": "text/x-python",
   "name": "python",
   "nbconvert_exporter": "python",
   "pygments_lexer": "ipython3",
   "version": "3.9.7"
  }
 },
 "nbformat": 4,
 "nbformat_minor": 5
}
